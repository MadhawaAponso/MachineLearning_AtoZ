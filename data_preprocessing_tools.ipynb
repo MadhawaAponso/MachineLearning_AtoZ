{
  "nbformat": 4,
  "nbformat_minor": 0,
  "metadata": {
    "colab": {
      "provenance": [],
      "include_colab_link": true
    },
    "kernelspec": {
      "name": "python3",
      "display_name": "Python 3"
    }
  },
  "cells": [
    {
      "cell_type": "markdown",
      "metadata": {
        "id": "view-in-github",
        "colab_type": "text"
      },
      "source": [
        "<a href=\"https://colab.research.google.com/github/MadhawaAponso/MachineLearning_AtoZ/blob/main/data_preprocessing_tools.ipynb\" target=\"_parent\"><img src=\"https://colab.research.google.com/assets/colab-badge.svg\" alt=\"Open In Colab\"/></a>"
      ]
    },
    {
      "cell_type": "markdown",
      "metadata": {
        "id": "37puETfgRzzg"
      },
      "source": [
        "# Data Preprocessing Tools"
      ]
    },
    {
      "cell_type": "markdown",
      "metadata": {
        "id": "EoRP98MpR-qj"
      },
      "source": [
        "## Importing the libraries"
      ]
    },
    {
      "cell_type": "code",
      "source": [
        "import numpy as np\n",
        "import matplotlib.pyplot as plt\n",
        "import pandas as pd\n"
      ],
      "metadata": {
        "id": "Hbqpsm4Y4tvV"
      },
      "execution_count": null,
      "outputs": []
    },
    {
      "cell_type": "markdown",
      "metadata": {
        "id": "RopL7tUZSQkT"
      },
      "source": [
        "## Importing the dataset"
      ]
    },
    {
      "cell_type": "code",
      "source": [
        "#import dataset\n",
        "dataset = pd.read_csv('Data.csv')\n",
        "# Load the dataset from a CSV file named 'Data.csv' using pandas and store it in the variable 'dataset'\n",
        "\n",
        "x = dataset.iloc[:, :-1].values\n",
        "# Extract all the columns except the last one from the dataset.\n",
        "# 'iloc' is used for integer-location based indexing.\n",
        "# ':' means all rows, ':-1' means all columns except the last one.\n",
        "# 'values' converts the selected part of the DataFrame to a NumPy array.\n",
        "# This extracted data is stored in variable 'x'.\n",
        "\n",
        "y = dataset.iloc[:, -1].values\n",
        "# Extract the last column from the dataset.\n",
        "# 'iloc[:, -1]' means all rows, and only the last column.\n",
        "# 'values' converts this column to a NumPy array.\n",
        "# This extracted data is stored in variable 'y'.\n"
      ],
      "metadata": {
        "id": "I_r9twXs5PQN"
      },
      "execution_count": null,
      "outputs": []
    },
    {
      "cell_type": "code",
      "source": [
        "print(x)"
      ],
      "metadata": {
        "colab": {
          "base_uri": "https://localhost:8080/"
        },
        "id": "fkJdrmKs_kqv",
        "outputId": "50c0cd74-cdf2-43b3-f1b0-68f72676170f"
      },
      "execution_count": null,
      "outputs": [
        {
          "output_type": "stream",
          "name": "stdout",
          "text": [
            "[['France' 44.0 72000.0]\n",
            " ['Spain' 27.0 48000.0]\n",
            " ['Germany' 30.0 54000.0]\n",
            " ['Spain' 38.0 61000.0]\n",
            " ['Germany' 40.0 nan]\n",
            " ['France' 35.0 58000.0]\n",
            " ['Spain' nan 52000.0]\n",
            " ['France' 48.0 79000.0]\n",
            " ['Germany' 50.0 83000.0]\n",
            " ['France' 37.0 67000.0]]\n"
          ]
        }
      ]
    },
    {
      "cell_type": "code",
      "source": [
        "print(y)"
      ],
      "metadata": {
        "colab": {
          "base_uri": "https://localhost:8080/"
        },
        "id": "T0f6uD-z_nGd",
        "outputId": "3f7008de-30cc-4c9a-8585-ece7c080d195"
      },
      "execution_count": null,
      "outputs": [
        {
          "output_type": "stream",
          "name": "stdout",
          "text": [
            "['No' 'Yes' 'No' 'No' 'Yes' 'Yes' 'No' 'Yes' 'No' 'Yes']\n"
          ]
        }
      ]
    },
    {
      "cell_type": "markdown",
      "metadata": {
        "id": "nhfKXNxlSabC"
      },
      "source": [
        "## Taking care of missing data"
      ]
    },
    {
      "cell_type": "code",
      "source": [
        "from sklearn.impute import SimpleImputer\n",
        "# Import the SimpleImputer class from the sklearn.impute module.\n",
        "# SimpleImputer is used to fill in missing values in a dataset.\n",
        "\n",
        "imputer = SimpleImputer(missing_values=np.nan, strategy='mean')\n",
        "# Create an instance of the SimpleImputer class.\n",
        "# 'missing_values=np.nan' specifies that the missing values in the dataset are represented as NaNs.\n",
        "# 'strategy='mean'' specifies that the missing values should be replaced with the mean value of the corresponding column.\n",
        "\n",
        "imputer.fit(x[:,1:3])# this calculate the mean\n",
        "x[:,1:3]=imputer.transform(x[:,1:3]) # replace the missing values in dataset\n"
      ],
      "metadata": {
        "id": "pW-93dQlCN6Q"
      },
      "execution_count": null,
      "outputs": []
    },
    {
      "cell_type": "code",
      "source": [
        "print(x)"
      ],
      "metadata": {
        "colab": {
          "base_uri": "https://localhost:8080/"
        },
        "id": "5PsUUnTpE-3n",
        "outputId": "1d001b82-7318-4757-d766-a4ca95300c11"
      },
      "execution_count": null,
      "outputs": [
        {
          "output_type": "stream",
          "name": "stdout",
          "text": [
            "[['France' 44.0 72000.0]\n",
            " ['Spain' 27.0 48000.0]\n",
            " ['Germany' 30.0 54000.0]\n",
            " ['Spain' 38.0 61000.0]\n",
            " ['Germany' 40.0 63777.77777777778]\n",
            " ['France' 35.0 58000.0]\n",
            " ['Spain' 38.77777777777778 52000.0]\n",
            " ['France' 48.0 79000.0]\n",
            " ['Germany' 50.0 83000.0]\n",
            " ['France' 37.0 67000.0]]\n"
          ]
        }
      ]
    },
    {
      "cell_type": "markdown",
      "metadata": {
        "id": "CriG6VzVSjcK"
      },
      "source": [
        "## Encoding categorical data"
      ]
    },
    {
      "cell_type": "markdown",
      "metadata": {
        "id": "AhSpdQWeSsFh"
      },
      "source": [
        "### Encoding the Independent Variable"
      ]
    },
    {
      "cell_type": "code",
      "source": [
        "from sklearn.compose import ColumnTransformer\n",
        "# Import the ColumnTransformer class from the sklearn.compose module.\n",
        "# ColumnTransformer is used to apply different preprocessing steps to different subsets of features.\n",
        "\n",
        "from sklearn.preprocessing import OneHotEncoder\n",
        "# Import the OneHotEncoder class from the sklearn.preprocessing module.\n",
        "# OneHotEncoder is used to encode categorical features as a one-hot numeric array.\n",
        "\n",
        "# Create an instance of the ColumnTransformer class.\n",
        "# 'transformers' is a list of (name, transformer, columns) tuples specifying the transformer objects to be applied to subsets of the data.\n",
        "# [('encoder', OneHotEncoder(), [0])] specifies that the OneHotEncoder should be applied to the first column (index 0).\n",
        "# 'remainder=\"passthrough\"' specifies that the remaining columns (not specified in transformers) should be passed through without transformation.\n",
        "ct = ColumnTransformer(transformers=[('encoder', OneHotEncoder(), [0])], remainder=\"passthrough\")\n",
        "\n",
        "# Apply the transformations to the dataset 'x' and convert the result to a NumPy array.\n",
        "x = np.array(ct.fit_transform(x))\n",
        "# 'fit_transform' fits the ColumnTransformer to the data and then transforms the data.\n",
        "# 'np.array' converts the resulting transformed data to a NumPy array.\n"
      ],
      "metadata": {
        "id": "AIqgu136LXpR"
      },
      "execution_count": null,
      "outputs": []
    },
    {
      "cell_type": "code",
      "source": [
        "print(x)"
      ],
      "metadata": {
        "id": "GJiabZ14LYyR"
      },
      "execution_count": null,
      "outputs": []
    },
    {
      "cell_type": "markdown",
      "metadata": {
        "id": "DXh8oVSITIc6"
      },
      "source": [
        "### Encoding the Dependent Variable"
      ]
    },
    {
      "cell_type": "code",
      "source": [
        "from sklearn.preprocessing import LabelEncoder\n",
        "# Import the LabelEncoder class from the sklearn.preprocessing module.\n",
        "# LabelEncoder is used to encode target labels with value between 0 and n_classes-1.\n",
        "\n",
        "le = LabelEncoder()\n",
        "# Create an instance of the LabelEncoder class.\n",
        "\n",
        "y = le.fit_transform(y)\n",
        "# Fit the LabelEncoder instance to the target variable 'y' and transform it.\n",
        "# 'fit_transform' first fits the LabelEncoder to the target variable 'y', finding all the unique classes.\n",
        "# It then transforms 'y' by replacing each class with a corresponding integer label.\n",
        "# The transformed target variable is stored back in 'y'.\n"
      ],
      "metadata": {
        "id": "uNLnpJPBLeeQ"
      },
      "execution_count": null,
      "outputs": []
    },
    {
      "cell_type": "code",
      "source": [
        "print(y)"
      ],
      "metadata": {
        "colab": {
          "base_uri": "https://localhost:8080/"
        },
        "id": "NbZ8U_CXL775",
        "outputId": "53e8dfbc-1fac-4975-ede8-5ca69ea1e4d7"
      },
      "execution_count": null,
      "outputs": [
        {
          "output_type": "stream",
          "name": "stdout",
          "text": [
            "[0 1 0 0 1 1 0 1 0 1]\n"
          ]
        }
      ]
    },
    {
      "cell_type": "markdown",
      "metadata": {
        "id": "qb_vcgm3qZKW"
      },
      "source": [
        "## Splitting the dataset into the Training set and Test set"
      ]
    },
    {
      "cell_type": "code",
      "source": [
        "from sklearn.model_selection import train_test_split\n",
        "\n",
        "x_train , x_test , y_train , y_test = train_test_split(x,y,test_size = 0.2,random_state=1)"
      ],
      "metadata": {
        "id": "YAvfuT3oQGRU"
      },
      "execution_count": null,
      "outputs": []
    },
    {
      "cell_type": "code",
      "source": [
        "print(x_train)"
      ],
      "metadata": {
        "colab": {
          "base_uri": "https://localhost:8080/"
        },
        "id": "u45p6zbkRWbr",
        "outputId": "ecbbe4fb-9edb-4e46-d8ee-576c5e4bc9db"
      },
      "execution_count": null,
      "outputs": [
        {
          "output_type": "stream",
          "name": "stdout",
          "text": [
            "[[0.0 0.0 1.0 38.77777777777778 52000.0]\n",
            " [0.0 1.0 0.0 40.0 63777.77777777778]\n",
            " [1.0 0.0 0.0 44.0 72000.0]\n",
            " [0.0 0.0 1.0 38.0 61000.0]\n",
            " [0.0 0.0 1.0 27.0 48000.0]\n",
            " [1.0 0.0 0.0 48.0 79000.0]\n",
            " [0.0 1.0 0.0 50.0 83000.0]\n",
            " [1.0 0.0 0.0 35.0 58000.0]]\n"
          ]
        }
      ]
    },
    {
      "cell_type": "code",
      "source": [
        "print(y_train)"
      ],
      "metadata": {
        "colab": {
          "base_uri": "https://localhost:8080/"
        },
        "id": "8zBzdGFkRWJt",
        "outputId": "5ca0d3ba-b5a2-4bc5-e799-1eae9a12102d"
      },
      "execution_count": null,
      "outputs": [
        {
          "output_type": "stream",
          "name": "stdout",
          "text": [
            "[0 1 0 0 1 1 0 1]\n"
          ]
        }
      ]
    },
    {
      "cell_type": "code",
      "source": [
        "print(x_test)"
      ],
      "metadata": {
        "colab": {
          "base_uri": "https://localhost:8080/"
        },
        "id": "vcPQKkGPRWBZ",
        "outputId": "1415b185-1777-4991-ced8-c57936a2dfb0"
      },
      "execution_count": null,
      "outputs": [
        {
          "output_type": "stream",
          "name": "stdout",
          "text": [
            "[[0.0 1.0 0.0 30.0 54000.0]\n",
            " [1.0 0.0 0.0 37.0 67000.0]]\n"
          ]
        }
      ]
    },
    {
      "cell_type": "code",
      "source": [
        "print(y_test)"
      ],
      "metadata": {
        "colab": {
          "base_uri": "https://localhost:8080/"
        },
        "id": "3w1objUqRVzj",
        "outputId": "74f49d72-6326-4d6c-a7e8-9516e2bea974"
      },
      "execution_count": null,
      "outputs": [
        {
          "output_type": "stream",
          "name": "stdout",
          "text": [
            "[0 1]\n"
          ]
        }
      ]
    },
    {
      "cell_type": "markdown",
      "metadata": {
        "id": "TpGqbS4TqkIR"
      },
      "source": [
        "## Feature Scaling"
      ]
    },
    {
      "cell_type": "code",
      "source": [
        "from sklearn.preprocessing import StandardScaler\n",
        "sc = StandardScaler()\n",
        "#All the values in same range\n",
        "x_train[:,3:] = sc.fit_transform(x_train[:,3:])\n",
        "x_test[:,3:] = sc.transform(x_test[:,3:])\n",
        "#If you were to fit the scaler separately on the test data, it might have different mean and standard deviation values, leading to inconsistency and potentially misleading results.\n",
        "\n",
        "\n"
      ],
      "metadata": {
        "id": "U6G99l-8U2ru"
      },
      "execution_count": null,
      "outputs": []
    },
    {
      "cell_type": "code",
      "source": [
        "print(x_test)"
      ],
      "metadata": {
        "colab": {
          "base_uri": "https://localhost:8080/"
        },
        "id": "hlUfxe-3XXVX",
        "outputId": "c993c28f-9696-4f2a-b068-eb5f42278c50"
      },
      "execution_count": null,
      "outputs": [
        {
          "output_type": "stream",
          "name": "stdout",
          "text": [
            "[[0.0 1.0 0.0 -1.4661817944830124 -0.9069571034860727]\n",
            " [1.0 0.0 0.0 -0.44973664397484414 0.2056403393225306]]\n"
          ]
        }
      ]
    },
    {
      "cell_type": "code",
      "source": [
        "print(x_train)"
      ],
      "metadata": {
        "colab": {
          "base_uri": "https://localhost:8080/"
        },
        "id": "hXwIDqAaXU9d",
        "outputId": "eabd6263-3825-434f-ac80-9e6c39a68112"
      },
      "execution_count": null,
      "outputs": [
        {
          "output_type": "stream",
          "name": "stdout",
          "text": [
            "[[0.0 0.0 1.0 -0.19159184384578545 -1.0781259408412425]\n",
            " [0.0 1.0 0.0 -0.014117293757057777 -0.07013167641635372]\n",
            " [1.0 0.0 0.0 0.566708506533324 0.633562432710455]\n",
            " [0.0 0.0 1.0 -0.30453019390224867 -0.30786617274297867]\n",
            " [0.0 0.0 1.0 -1.9018011447007988 -1.420463615551582]\n",
            " [1.0 0.0 0.0 1.1475343068237058 1.232653363453549]\n",
            " [0.0 1.0 0.0 1.4379472069688968 1.5749910381638885]\n",
            " [1.0 0.0 0.0 -0.7401495441200351 -0.5646194287757332]]\n"
          ]
        }
      ]
    },
    {
      "cell_type": "code",
      "source": [
        "print(y_train)"
      ],
      "metadata": {
        "colab": {
          "base_uri": "https://localhost:8080/"
        },
        "id": "mBghktG_aMC8",
        "outputId": "21c8a4c7-3a7f-47c7-de95-b6265166e743"
      },
      "execution_count": null,
      "outputs": [
        {
          "output_type": "stream",
          "name": "stdout",
          "text": [
            "[0 1 0 0 1 1 0 1]\n"
          ]
        }
      ]
    }
  ]
}